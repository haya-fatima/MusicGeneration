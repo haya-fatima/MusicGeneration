{
  "cells": [
    {
      "cell_type": "code",
      "execution_count": null,
      "metadata": {
        "_cell_guid": "b1076dfc-b9ad-4769-8c92-a6c4dae69d19",
        "_uuid": "8f2839f25d086af736a60e9eeb907d3b93b6e0e5",
        "colab": {
          "base_uri": "https://localhost:8080/"
        },
        "id": "s33Sj9TUUQT1",
        "outputId": "a35368b7-a173-4367-b542-3e6930f38929"
      },
      "outputs": [
        {
          "output_type": "stream",
          "name": "stdout",
          "text": [
            "/content/17.mid\n",
            "/content/13.mid\n",
            "/content/7.mid\n",
            "/content/Sitar, Bansuri Tabla trio  Rishab Prasanna & Sandip Banerjee & Nicolas Delaigue.mid\n",
            "/content/9.mid\n",
            "/content/1.mid\n",
            "/content/Morning Meditation Ragas On Sitar - Peaceful Music for Relaxation - B. Sivaramakrishna Rao.mid\n",
            "/content/Heal Ragas __ flute and sitar by Hariprasad chorsia__ calm mind__ Thumri in raag bhairavi.mid\n",
            "/content/Pandit Ravi Shankar - Morning Meditation Ragas On Sitar  Indian Classical Instrumental Music.mid\n",
            "/content/4.mid\n",
            "/content/12.mid\n",
            "/content/2.mid\n",
            "/content/3.mid\n",
            "/content/15.mid\n",
            "/content/14.mid\n",
            "/content/10.mid\n",
            "/content/18.mid\n",
            "/content/11.mid\n",
            "/content/6.mid\n",
            "/content/0.mid\n",
            "/content/16.mid\n",
            "/content/19.mid\n",
            "/content/8.mid\n",
            "/content/5.mid\n",
            "/content/.config/.last_survey_prompt.yaml\n",
            "/content/.config/config_sentinel\n",
            "/content/.config/default_configs.db\n",
            "/content/.config/active_config\n",
            "/content/.config/gce\n",
            "/content/.config/.last_update_check.json\n",
            "/content/.config/.last_opt_in_prompt.yaml\n",
            "/content/.config/configurations/config_default\n",
            "/content/.config/logs/2023.12.01/14.24.01.844580.log\n",
            "/content/.config/logs/2023.12.01/14.24.01.047839.log\n",
            "/content/.config/logs/2023.12.01/14.21.01.186711.log\n",
            "/content/.config/logs/2023.12.01/14.23.50.651734.log\n",
            "/content/.config/logs/2023.12.01/14.20.50.902054.log\n",
            "/content/.config/logs/2023.12.01/14.17.55.539727.log\n",
            "/content/sample_data/anscombe.json\n",
            "/content/sample_data/README.md\n",
            "/content/sample_data/mnist_train_small.csv\n",
            "/content/sample_data/mnist_test.csv\n",
            "/content/sample_data/california_housing_train.csv\n",
            "/content/sample_data/california_housing_test.csv\n"
          ]
        }
      ],
      "source": [
        "import numpy as np # linear algebra\n",
        "import pandas as pd # data processing, CSV file I/O (e.g. pd.read_csv)\n",
        "import os\n",
        "for dirname, _, filenames in os.walk('/content/'):\n",
        "    for filename in filenames:\n",
        "        print(os.path.join(dirname, filename))"
      ]
    },
    {
      "cell_type": "code",
      "execution_count": null,
      "metadata": {
        "_cell_guid": "79c7e3d0-c299-4dcb-8224-4455121ee9b0",
        "_uuid": "d629ff2d2480ee46fbb7e2d37f6b5fab8052498a",
        "colab": {
          "base_uri": "https://localhost:8080/"
        },
        "id": "jc23ILn4UQT2",
        "outputId": "06054574-03fb-4c5d-80ad-096118f9537a"
      },
      "outputs": [
        {
          "output_type": "stream",
          "name": "stdout",
          "text": [
            "Requirement already satisfied: music21 in /usr/local/lib/python3.10/dist-packages (9.1.0)\n",
            "Requirement already satisfied: chardet in /usr/local/lib/python3.10/dist-packages (from music21) (5.2.0)\n",
            "Requirement already satisfied: joblib in /usr/local/lib/python3.10/dist-packages (from music21) (1.3.2)\n",
            "Requirement already satisfied: jsonpickle in /usr/local/lib/python3.10/dist-packages (from music21) (3.0.2)\n",
            "Requirement already satisfied: matplotlib in /usr/local/lib/python3.10/dist-packages (from music21) (3.7.1)\n",
            "Requirement already satisfied: more-itertools in /usr/local/lib/python3.10/dist-packages (from music21) (10.1.0)\n",
            "Requirement already satisfied: numpy in /usr/local/lib/python3.10/dist-packages (from music21) (1.23.5)\n",
            "Requirement already satisfied: requests in /usr/local/lib/python3.10/dist-packages (from music21) (2.31.0)\n",
            "Requirement already satisfied: webcolors>=1.5 in /usr/local/lib/python3.10/dist-packages (from music21) (1.13)\n",
            "Requirement already satisfied: contourpy>=1.0.1 in /usr/local/lib/python3.10/dist-packages (from matplotlib->music21) (1.2.0)\n",
            "Requirement already satisfied: cycler>=0.10 in /usr/local/lib/python3.10/dist-packages (from matplotlib->music21) (0.12.1)\n",
            "Requirement already satisfied: fonttools>=4.22.0 in /usr/local/lib/python3.10/dist-packages (from matplotlib->music21) (4.45.1)\n",
            "Requirement already satisfied: kiwisolver>=1.0.1 in /usr/local/lib/python3.10/dist-packages (from matplotlib->music21) (1.4.5)\n",
            "Requirement already satisfied: packaging>=20.0 in /usr/local/lib/python3.10/dist-packages (from matplotlib->music21) (23.2)\n",
            "Requirement already satisfied: pillow>=6.2.0 in /usr/local/lib/python3.10/dist-packages (from matplotlib->music21) (9.4.0)\n",
            "Requirement already satisfied: pyparsing>=2.3.1 in /usr/local/lib/python3.10/dist-packages (from matplotlib->music21) (3.1.1)\n",
            "Requirement already satisfied: python-dateutil>=2.7 in /usr/local/lib/python3.10/dist-packages (from matplotlib->music21) (2.8.2)\n",
            "Requirement already satisfied: charset-normalizer<4,>=2 in /usr/local/lib/python3.10/dist-packages (from requests->music21) (3.3.2)\n",
            "Requirement already satisfied: idna<4,>=2.5 in /usr/local/lib/python3.10/dist-packages (from requests->music21) (3.6)\n",
            "Requirement already satisfied: urllib3<3,>=1.21.1 in /usr/local/lib/python3.10/dist-packages (from requests->music21) (2.0.7)\n",
            "Requirement already satisfied: certifi>=2017.4.17 in /usr/local/lib/python3.10/dist-packages (from requests->music21) (2023.11.17)\n",
            "Requirement already satisfied: six>=1.5 in /usr/local/lib/python3.10/dist-packages (from python-dateutil>=2.7->matplotlib->music21) (1.16.0)\n"
          ]
        }
      ],
      "source": [
        "!pip install music21"
      ]
    },
    {
      "cell_type": "code",
      "execution_count": null,
      "metadata": {
        "id": "c8S-XY9BUQT3"
      },
      "outputs": [],
      "source": [
        "from music21 import *\n",
        "def read_midi(file):\n",
        "\n",
        "    print(\"Loading Music File:\",file)\n",
        "\n",
        "    notes=[]\n",
        "    notes_to_parse = None\n",
        "\n",
        "    #parsing a midi file\n",
        "    midi = converter.parse(file)\n",
        "\n",
        "    #grouping based on different instruments\n",
        "    s2 = instrument.partitionByInstrument(midi)\n",
        "\n",
        "    #Looping over all the instruments\n",
        "    for part in s2.parts:\n",
        "\n",
        "        #select elements of only piano\n",
        "        if 'Piano' in str(part):\n",
        "\n",
        "            notes_to_parse = part.recurse()\n",
        "\n",
        "            #finding whether a particular element is note or a chord\n",
        "            for element in notes_to_parse:\n",
        "\n",
        "                #note\n",
        "                if isinstance(element, note.Note):\n",
        "                    notes.append(str(element.pitch))\n",
        "\n",
        "                #chord\n",
        "                elif isinstance(element, chord.Chord):\n",
        "                    notes.append('.'.join(str(n) for n in element.normalOrder))\n",
        "\n",
        "    return np.array(notes)"
      ]
    },
    {
      "cell_type": "code",
      "execution_count": null,
      "metadata": {
        "colab": {
          "base_uri": "https://localhost:8080/"
        },
        "id": "z87IqZAPUQT3",
        "outputId": "78828f4d-6082-41c6-9605-89a85784e09d"
      },
      "outputs": [
        {
          "output_type": "stream",
          "name": "stdout",
          "text": [
            "Loading Music File: /content/17.mid\n",
            "Loading Music File: /content/13.mid\n",
            "Loading Music File: /content/7.mid\n",
            "Loading Music File: /content/Sitar, Bansuri Tabla trio  Rishab Prasanna & Sandip Banerjee & Nicolas Delaigue.mid\n",
            "Loading Music File: /content/9.mid\n",
            "Loading Music File: /content/1.mid\n",
            "Loading Music File: /content/Morning Meditation Ragas On Sitar - Peaceful Music for Relaxation - B. Sivaramakrishna Rao.mid\n",
            "Loading Music File: /content/Heal Ragas __ flute and sitar by Hariprasad chorsia__ calm mind__ Thumri in raag bhairavi.mid\n",
            "Loading Music File: /content/Pandit Ravi Shankar - Morning Meditation Ragas On Sitar  Indian Classical Instrumental Music.mid\n",
            "Loading Music File: /content/4.mid\n",
            "Loading Music File: /content/12.mid\n",
            "Loading Music File: /content/2.mid\n",
            "Loading Music File: /content/3.mid\n",
            "Loading Music File: /content/15.mid\n",
            "Loading Music File: /content/14.mid\n",
            "Loading Music File: /content/10.mid\n",
            "Loading Music File: /content/18.mid\n",
            "Loading Music File: /content/11.mid\n",
            "Loading Music File: /content/6.mid\n",
            "Loading Music File: /content/0.mid\n",
            "Loading Music File: /content/16.mid\n",
            "Loading Music File: /content/19.mid\n",
            "Loading Music File: /content/8.mid\n",
            "Loading Music File: /content/5.mid\n"
          ]
        },
        {
          "output_type": "stream",
          "name": "stderr",
          "text": [
            "<ipython-input-4-1c587396b50b>:14: VisibleDeprecationWarning: Creating an ndarray from ragged nested sequences (which is a list-or-tuple of lists-or-tuples-or ndarrays with different lengths or shapes) is deprecated. If you meant to do this, you must specify 'dtype=object' when creating the ndarray.\n",
            "  notes_array = np.array([read_midi(path+i) for i in files])\n"
          ]
        }
      ],
      "source": [
        "#for listing down the file names\n",
        "import os\n",
        "\n",
        "#Array Processing\n",
        "import numpy as np\n",
        "\n",
        "#specify the path\n",
        "path='/content/'\n",
        "\n",
        "#read all the filenames\n",
        "files=[i for i in os.listdir(path) if i.endswith(\".mid\")]\n",
        "\n",
        "#reading each midi file\n",
        "notes_array = np.array([read_midi(path+i) for i in files])\n"
      ]
    },
    {
      "cell_type": "code",
      "execution_count": null,
      "metadata": {
        "colab": {
          "base_uri": "https://localhost:8080/"
        },
        "id": "YEsl0xJiUQT3",
        "outputId": "8f40e3d6-0812-4b9a-f874-650e7e1c32e7"
      },
      "outputs": [
        {
          "output_type": "stream",
          "name": "stdout",
          "text": [
            "4172\n"
          ]
        }
      ],
      "source": [
        "#converting 2D array into 1D array\n",
        "notes_ = [element for note_ in notes_array for element in note_]\n",
        "#No. of unique notes\n",
        "unique_notes = list(set(notes_))\n",
        "print(len(unique_notes))\n",
        "# unique_notes"
      ]
    },
    {
      "cell_type": "code",
      "execution_count": null,
      "metadata": {
        "colab": {
          "base_uri": "https://localhost:8080/",
          "height": 445
        },
        "id": "eEtLM_cuUQT3",
        "outputId": "ff70a91a-5652-429d-ec4c-9e889038c421"
      },
      "outputs": [
        {
          "output_type": "display_data",
          "data": {
            "text/plain": [
              "<Figure size 500x500 with 1 Axes>"
            ],
            "image/png": "[encoded data removed]"
          },
          "metadata": {
            "image/png": {
              "width": 465,
              "height": 428
            }
          }
        }
      ],
      "source": [
        "#importing library\n",
        "from collections import Counter\n",
        "\n",
        "#computing frequency of each note\n",
        "freq = dict(Counter(notes_))\n",
        "\n",
        "#library for visualiation\n",
        "import matplotlib.pyplot as plt\n",
        "\n",
        "#consider only the frequencies\n",
        "no=[count for _,count in freq.items()]\n",
        "\n",
        "#set the figure size\n",
        "plt.figure(figsize=(5,5))\n",
        "\n",
        "bins = [i * 10 for i in range(int(max(no) // 10) + 2)]\n",
        "\n",
        "#plot\n",
        "plt.hist(no, bins = bins)\n",
        "\n",
        "plt.xlim(0, 200)\n",
        "\n",
        "plt.show()"
      ]
    },
    {
      "cell_type": "code",
      "execution_count": null,
      "metadata": {
        "colab": {
          "base_uri": "https://localhost:8080/"
        },
        "id": "1jYgo6OLUQT3",
        "outputId": "8face894-e0f2-47ac-99e3-6ee8c416521b"
      },
      "outputs": [
        {
          "output_type": "stream",
          "name": "stdout",
          "text": [
            "1966\n"
          ]
        }
      ],
      "source": [
        "frequent_notes = [note_ for note_, count in freq.items() if count>= 20]\n",
        "print(len(frequent_notes))"
      ]
    },
    {
      "cell_type": "code",
      "execution_count": null,
      "metadata": {
        "colab": {
          "base_uri": "https://localhost:8080/"
        },
        "id": "veDNGYTLUQT3",
        "outputId": "ad1e2887-b5eb-462a-f094-921d0fc8cff5"
      },
      "outputs": [
        {
          "output_type": "stream",
          "name": "stderr",
          "text": [
            "<ipython-input-8-3eb6be2fd841>:10: VisibleDeprecationWarning: Creating an ndarray from ragged nested sequences (which is a list-or-tuple of lists-or-tuples-or ndarrays with different lengths or shapes) is deprecated. If you meant to do this, you must specify 'dtype=object' when creating the ndarray.\n",
            "  new_music = np.array(new_music)\n"
          ]
        }
      ],
      "source": [
        "new_music=[]\n",
        "\n",
        "for notes in notes_array:\n",
        "    temp=[]\n",
        "    for note_ in notes:\n",
        "        if note_ in frequent_notes:\n",
        "            temp.append(note_)\n",
        "    new_music.append(temp)\n",
        "\n",
        "new_music = np.array(new_music)"
      ]
    },
    {
      "cell_type": "code",
      "execution_count": null,
      "metadata": {
        "id": "ceXPRHGoUQT3",
        "colab": {
          "base_uri": "https://localhost:8080/"
        },
        "outputId": "e4ff02c4-bef4-4db7-a72e-265f7277687f"
      },
      "outputs": [
        {
          "output_type": "stream",
          "name": "stdout",
          "text": [
            "(509232, 32) (509232,)\n",
            "[['6.9.0.2' '0.2.6' 'A5' ... '5.6' '1.2.4.6.9' '11.0.1.6']\n",
            " ['0.2.6' 'A5' '9.2' ... '1.2.4.6.9' '11.0.1.6' '9.1.2']\n",
            " ['A5' '9.2' 'D7' ... '11.0.1.6' '9.1.2' 'D5']\n",
            " ...\n",
            " ['7.9.11.0.2.3.4.5' '0.2.3.4' 'F#5' ... '0.2.4.6.9' '1.2.4.8.9' '2.4']\n",
            " ['0.2.3.4' 'F#5' '9.0.1.2.4.5' ... '1.2.4.8.9' '2.4' '9.10.11.0.4.5']\n",
            " ['F#5' '9.0.1.2.4.5' '0.1.2.4.5' ... '2.4' '9.10.11.0.4.5' '4.5.10.11']]\n",
            "['9.1.2' 'D5' 'D4' ... '9.10.11.0.4.5' '4.5.10.11' '10.2']\n"
          ]
        }
      ],
      "source": [
        "no_of_timesteps = 32\n",
        "x = []\n",
        "y = []\n",
        "\n",
        "for note_ in new_music:\n",
        "    for i in range(0, len(note_) - no_of_timesteps, 1):\n",
        "\n",
        "        #preparing input and output sequences\n",
        "        input_ = note_[i:i + no_of_timesteps]\n",
        "        output = note_[i + no_of_timesteps]\n",
        "\n",
        "        x.append(input_)\n",
        "        y.append(output)\n",
        "\n",
        "x=np.array(x)\n",
        "y=np.array(y)\n",
        "print(x.shape, y.shape)\n",
        "print(x)\n",
        "print(y)"
      ]
    },
    {
      "cell_type": "code",
      "execution_count": null,
      "metadata": {
        "id": "uJ3Ws1JFUQT4",
        "colab": {
          "base_uri": "https://localhost:8080/"
        },
        "outputId": "a884b260-dc13-47cb-c4ec-e90a42deb014"
      },
      "outputs": [
        {
          "output_type": "stream",
          "name": "stdout",
          "text": [
            "['9.11.1.2.4.5.6', '8.9.11.2', '4.5.7.9.0', '5.6.8.9.11.0.1.2', '10.11.2.4.5.6', '2.4.6.10', '1.2.4.6.7.8.9.10', '11.2.5.7', '0.1.2.4.5.7.9', '1.2.3.4.5.7.9', 'C#0', '1.4.5.6.9', 'G2', '10.1.2.3.4.5.6', '1.3.7.9', '1.2.5.7.8', '4.6.7.9.10.11.0', '10.1.3', '6', '6.7.8.9.11.1.2.4', '0.4.7.8', '6.7.9.11', '1.4.7.8.9', '2.6.8.9.10', '7.9', '1.2.6.9', '9.10.2.4.5', '11.0.1.2.4.7', '6.7.8.9.0.2', '5.8.11', '1.2.3.4.5.8.9', '2.4.5.7.9.10', '6.11.0', '9.10.2.4', '8.9.0', '3.7.8.9', '8.9.11.1.2.4', '0.1.2.4.5.6.8.9', '0.3.4.5.6', '9.10.0.2', '5.6.7.9.10.0.2', '2.4.5.6.9', '4.5.6.7.8.9.10.1', '2.3.4.5.6.9', '6.7.9.11.0', '1.3.5', '4.7.9.0', '10.11.0.4.5', '5.7.9.11.1.2', '4.5.9.0', '6.7.8.1', '1.3.4.5.8.9', '4.5.6.7.10', '1.3.4', '9.10.11.1.4.6', '11.3', '2.3.4.8.9', '9.0.3.4.5', '1.2.3.5.6.7.8.9', '1.2.4.6', '7.8.9.1', '0.4.7', 'C#3', '7.10.11.0.2', '10.11.0.1.2', '6.7.9.10', '1.4.6.7.8', '11.0.1.4', '0.4.5', '5.6.9.11.2', '1.2.3.4.5.6.8.9.10', '9.0.2.3.4.5.6', '2.3.4.5.6.7.8.9.10.11', '2.4.7.9', '10.1.4.5', '8.9.11.2.3.4', '3.4.6.8', '2.7', '9.10.11.0.1.2', '0.1.2.4.5.6.8.10', '6.9.0.1.2', '9.10.0.1.4.6', '1.3.4.7.8.9', '11.0.3.4.5.6', '2.4.6.7.9.10.11', '9.0.2.5', '6.7.9.0.1.2', '2.5.6.8.9', '9.10.11.0.4', '7.9.10.0.2.4', '1.2.3.4.5.6.7.8.9', '3.4.5.9', '7.9.0.2', '4.5.8.10', '2.5.7', '3.7.8', '11.0.2.4', 'G#3', '10.11.0.1.2.4.5.7', '2.3.7', '1.2.3.5.6', '0.1.2.3.5.6.9', '0.1.2.4', '4.6.7.9.11', '6.7.11.2', '0.2.5.7', '1.2.6.8.9', '5.7', '2.4.7', '9.0.3', '11.0.1.2.3.4.5', '10.11.1.2.4.5.6', '0.2.4.5.6.7', '7.9.10.0.1', '7.8.9.10.1.2.4', '11.1.2.5.6.7', '11.0.1.2.4.6.7.9', '1.2.4.5.6.7.8.9', '6.7.9.11.0.1.2', '7.9.0', '6.9.11.0.1.2.3', '3.8', '1.3.4.5.7.9', '1.4.5.8', '9.11.0.2.3', '8.9.11.1.4.5', '9.10.11.0.1.2.4.5', '11.3.6', '0.1.2.4.5.6', '6.8.9.11', '1.2.3.4.7', '4.6.9.10.11.0', '9.10.1.4.5', '5.6.8.9.0.2', '2.3.6.7.9', '10.2.4.5.6', '1.2.4.6.8', '1.2.3.5.6.7.8', '4.5.10', '9.10.1.2.3', '5.6.7.9.1', 'E0', '6.7.11.0', '10.11.2.4', '10.1.2.3.6', '9.11.0.1.2.4.6', '10.0.2.4.5.7', '10.2.3', '9.10.0.1.2.4.5', '1.2.4.6.7.9.11', '5.7.9.11.0', '11.1.2.4.5.7', 'D2', '1.2.3.5.6.9', '2.6.7.8.9', '10.0.2.4.7', '2.4.5.8', '11.0.1.3.4.5', '4.5.6.7.8.11.0', '4.5.6.7.9.10.11.0', '1.4.5.7.8', '2.7.8', '11.0.1.2.5.6', '2.4.7.10', '9.10.0.2.5.6', '3.6.7.8.9', '6.7.9.0.2', '11.2.3.4.6', 'G5', '5.6.9.10', '4.5.7.8.9.11.0.1.2', '8.9.11.0.4', '10.11.0.2.4.7', '9.11.1.3.4', '6.7.9.11.1', '4.5.6.7.8.9', '1.7', '4.6.9.10.11', '2.4.5.8.10.11', '11.0.1.2.3.4.5.6.8', '6.9.11', '2.4.5.6.8.9.10', '9.11.3.4', '7.9.11.0.1.2.4', '6.7.8.9.10', '5.6.8.11', '6.7.8.9', '9.10.1.2.4.5', '6.9.10.11.1.2', '5.6.9.11.0.1', '0.3.7', '9.11.0', '7.8.9.0.1.4', '4.6.9', '8.9.11.1.2.4.6', '4.6.7.9.11.1', '5.6.7.10.11', '1.2.5.6.7.9', '6.7.0', '4.7.9.10.0', '10.11.0.2.6', '10.0.1.4.5', '10.11.0.2.4.5.6', '1.2.7.8', '6.8.9.11.2', '10.11.3.5', '7.8.9.1.2', '10.0.1.2.4', '9.11.0.1.4.5', '0.3.5.6.8', '9.11.1.4', '5.7.9.11.0.2', '8.11.0.1.4', '1.2.4.5.6.7.9.10', '8.9.11.0.2.4.5', 'D6', 'D3', '4.8.11.0', 'A1', '11.2.3.5', '5.6.10.1', 'C#2', '3.5.6', '0.1.2.3.4.5.6.9', '4.6.8.9.11.0', '7.10.0.1.2', '0.1.5.8', 'E-2', '1.2.3.5', '2.4.5.6.7.8.9.10.11', '8.9.11.0.1.4', '5.8.9.10.0', '4.6.7', '4.5.6.10.11', '7.11.0.1', '0.1.4.5', '1.2.3.4.6.7.8.9.10', '4.5.6.7.8.9.0.1', '2.3', '4.8.9.11', '2.3.5.6.7.8', '5.7.10.1', '6.7.8.9.11.2', '4.5.6.10.0', '4.5.6.7.9.11.0.2', '5.6.8.9.11.2', '5.6.8.11.0', '0.1.4.8', '7.9.0.1.2', '8.9.11.0.1.2.3.4.5', '3.4', '9.1.3', '6.7.10.1.2', '11.1.2.5.7', '8', '1.2.3.5.6.7', '3.4.7.9', '7.8.9.10.0.1.2.4', '8.9.10.11.0.1.2.3.4.5.6', '5.9.10.11', '7.8.9.10.11.0.2.3.4.5', '2.4.5.6.8', '9.11.0.2.4.6', '6.8.11', '5.6.7.8.9.10.11.0.1.2.3', '7.9.10.1', '1.2.3.5.6.7.8.9.10', '0.1.2.3.6.7', '2.6.7.8', '10.2.4', '10.0.5', '2.3.4.5.9', '10.11.1.2.6', '7.9.2', '2.3.4.7.9', '0.1.3.5.7.9', '6.8.9.0.1', '5.6.8.9.10.0.2', '11.0.1.2.3.4.6.7.8.9', '4.5.7.11', '0.5', '0.1.4.5.7', '11.0.2.4.7', '1.2.3.4.5.6.9.10', '10.0.1.2.3.4.5', '8.9.1.2.3', '4.7.8.9.11', '0.1.4.6.7.8.9', '10.0.2.5.6', '10.2.5.6', '11.0.2.3', '2.4.6.7.9.10.11.0', '0.2.4.5.6.7.8.9', '3.4.5.6.10', '5.6.7.11.0', '10.3.4', '4.5.6.9', '4.6.7.8.9.11.0', '4.5.6.8.9.0', '10.0.1.2', '9.11.0.2.5', '4.5.6', '11.0.1.2.4.5.6.8.9', '9.0.1.2', '7.8.9.11', '7.10.0.2', '1.2.5.6', '11.0.1.2.6.7', '9.10.11.0.1.2.4.5.6.7', '10.1.2.5', '11.1.4.7', '4.5.7.9.11.0.1', '3.4.6', '1.4.5.6.8.9', '1.2.3.4.5.6.7.8.9.10.11', '3.4.6.9.0', '0.1.5.6', '10.11', '6.7.9.11.1.2', '8.10.11', '11.0.1.4.5.6', '0.4.5.6', '2.5.6.8.9.10.11', '4.5', '5.6.7.9.0.1', '5.6.8.11.1', '2.3.4.5.9.10', '0.1.2.5.6.8.9', '4.5.6.7.8.11', '9.1.2.3', '9.11.0.2.4.5.6', '1.2.3.4.5.6.7.9.11', '1.2.3.4.5.6.7.8.9.10', '6.11', '9.10.0', '4.5.6.8.11.1', '3.5.6.7.9', '0.1.2.5.6.7.8', '2.4.5.7.9', '10.2.4.5', '11.0.2.3.4.5.6.8', '2.4.8', '7', '0.1.2.4.5.7.8', '5.8.9.10', '11.0.2.3.5.6', '6.7.8.9.10.2', '11.0.2.6.7', '2.5.6.7.10', 'D0', '0.3.6', '0.1.2.3.4.5.6.7.8.9', '9.10.11.2', '3.4.5.8.11', '7.8.9.10.1.2', '7.9.11.0.1', '5.6.8.11.0.2', '11.0.4.6', '7.8.9.10', '6.9.11.0.1', '5.8.10.0', '1.2.3.5.8.9', '8.9.11.0.1', '5.7.9.10.0.1.2', '8.11.3', '4.6.9.0', '3.5.7.9', '1.2.3.5.9', '8.9.11.1.4', '7.11.2.3', '2.3.4.6.7.9.11.0', '7.11.1', '4.5.7.8.9.11.1', '9.10.11.2.4.6', '4.5.7.9.10.0.2', '1.4.6', '9.11.1.2.5', '6.8.9.10', '1.2.3.4.6.8.9', '6.9.10.11', '0.2.4.6.7.9', '1.2.4', '9.10.1.5', '0.1.2.5.7.8', '9.11.0.2.4.5', '0.1.3.5.6', '4.5.6.7.8.9.11.0.1.2', '1.3.6.7', '6.9.10.1', '6.10.1.2', '11.0.1.2.3.4.5.7.9', '0.2.4.5.8', '1.2.3.4.5.7.8.9.10.11', '6.9.10.0.2', '2.4.5.6.8.9.11', '5.8', '5.6.9.10.0', '10.11.0.1.2.5', 'A3', '11.1.4.5.6.7', '11.4', '11.2.3', '5.6.7.8.9.11.0.2', '2.4.6.8.11', '8.9.0.2', 'F2', '9.11.2.4', '2.6.8', '5.8.10', '10.1.4.5.6', '2.3.4.6.10', '2.3.4.6.8.11', '0.2.4.6', '5.7.9.11.2', '0.1.2.4.7.8.9', '5.6.7.8.9', '0.2.4.6.7.8.9', '4.6.8.0', '0.1.2.5.6', '0.2.5.7.8.9', '2.3.4.5.6.7', '1.3.4.5.6', '6.8.9.0.1.2', '11.0.1.2.4.5', '0.1.2.3.4.5.8.9', '5.7.9.11', '11.0.2.3.4.6.8', '0.2.3.4.5.7.9', '6.8.11.0.1', '6.7.9.10.0.1.2', '9.10.0.1.2.4.6', '1.2.7', '10.0.2', '1.2.3.4.5.8', '9.10.1', '0.1.2.3.4.5.6.7.9', '9.0.2.5.6', '6.7.8.9.0', '7.8.9.2', '4.5.6.9.11.0', '6.7.8.9.10.0.1.2.4', '8.9.11.2.4', 'A2', 'G6', '1.2.3.5.7', '9.11.2', '4.5.8.11', '11.0.2.4.5.7.9', '1.2.3.4.5.6.9', '0.1.2.4.7.9', '9.1.4.5', '10.11.0.1.2.5.6.7', '8.9.10.0', '11.2.3.4.6.7', '6.10', '11.0.1.2.3.4.5.7.8.9', '6.8.10', '5.6.8.9.10.11.0.1.2', '1.4.5.6.7.8.9', '7.9.1.2', '6.7.9.10.2', '8.11.0.2.4', '8.9.0.1.4', '2.5.7.8.9', '0.1.2.3.5.7.9', '5.6.10.0', '6.7.9.10.0.2', '0.1.2.4.7', '4.6.9.11', '0.2.4.6.8', '11.1', '1.4.8', '10.0.2.4.6.7', '11.0.1.5.7', '11.2.5.6', '11.1.2.4.5.6.7.8.9', '3.4.6.7.9.11.1', '7.10.0.1.2.3.4', '1.2.5.7', '0.1.2.4.6.7.8', '9.10.2.3.4', '6.7.9.10.11.0.1.2', '3.6', '4.5.6.7.9.10.11.1.2', '2.3.4.6.8.9.11', '3.4.5.9.10', '9.10.2', '4.6.7.9.11.0', '3.5.6.8', '5.6.8.9.10.11.0.2', '1.4.5.7.8.9', '6.10.11', '0.2.4.5.7', '0.2.4.6.8.9', '11.0.3.5', '1.4.6.9', '2.4.5.7.8.9', '3.4.5.8.9', '9.10.1.2.3.4', '10.1.2.5.6.7', '9.10.11.0.2', '1.4.5.6.7.9', '1.3.4.6.8.9', '6.8', '2.4.5.6.7.8', '0.1.2.3.4.7', '2.3.7.8', '0.1.4.6.9', '11.1.3.4.5.6', '2.4.6.8', '0.2.3.6', '1.3.5.6', '1.2.4.5', '9.1.4', '2.6.9.10', '1.2.4.5.8', '10.1.2.4.6', '1.5.7.8.9', '2.4.7.9.10', '11.4.5', '10.11.0.2', '5.6.7.9.11.1.2', '5.8.9.0', '5.7.9.10.1', '10.0.1.2.4.5.6', '9.0.3.5', '3.4.7.8', '4.7.9.0.1', '9.10.3', '1.2.4.6.9', 'F3', '0.1.2.3.4.6.7.8.9.10', 'E-3', '11.0.2', '0.1.2.3.7', '4.5.9.11.0', 'C5', '4.9.10', '7.8.0', '1.2.4.5.7', '11.1.3.5', '7.11.0.1.2', '5.6', '7.8.9.10.0.1.2.4.5', '1.2.3.4.7.9', '7.9.0.3', '1.2.3.6', '5.6.8.10.11', '8.9.0.4', '9', '0.2.3.4.6.9', '9.0.2.4.5.6', '1.2.4.5.7.10', '6.10.0.1', '9.10.0.1.2.5', '1.3.4.6.7', '0.1.3.4', '10.0.2.4', '11.0.1.2.4', '7.8.10', '11.0.1.3.4', '0.1.2.3.4.5.6.7.8.9.10', '6.7.9.11.2', '0.1.2.3.4', '7.8.11.1', '4.5.6.7.9.11.1', '4.6.9.11.0.1', '10.1.2.3.4.6', '4.5.7.9', '0.2.3.4.7', '2.5', '11.2.4.7.8', 'E-0', '4.6.7.11', '11.1.3.5.8', '7.8.9.0.1', '1.3.4.5.6.8', '7.8.11', '8.9.11.0.1.2.4', 'B4', '11.1.2.3.5.6', '11.1.2.4.5', '9.11.0.1.2.3.4.5.6', '5.6.10.0.1', '9.10.2.3', 'A5', '1.2.4.5.7.9.11', '8.9.11.0.1.2', '4.6.9.10.0', '4.5.7.9.0.1', '2.3.4.6.9.10', '6.7.8.11', '3.4.5.6.7', '7.9.10.11', '11.1.4.5', '5.6.7.9.11.0.1.2', '5.7.9', '4.5.6.7', '2.4.6.8.9', '6.8.1', '8.0', '7.9.10.2', '9.0.1.4.5', '10.0.4', '2.3.4.5.8.9', '1.2.3.4.5.7.9.11', '9.0.1.3.4', '2.5.7.10.11', 'C#7', '1.3.4.7', '11.0.1.3.4.6.7.9', '7.8.9.10.11.0.1.2.4.5', 'G#0', '0.3.5.7', '10.11.0.1.2.3.4.5.6.7.8', '4.6.8.11', '9.10.11.0.1.2.5', '2.4.7.8', '1.2.3.4', '3.4.6.8.11', '3.5.6.7', '9.10.1.4', '5.7.8.11.1.2', '11.1.2.3.5.6.7', '0.1.2.3.4.6.7.9', '2.5.6.9.10.11', '7.9.11.0.2', '8.9.11.0.2.4', '2.3.4.5.6.7.9.11', 'F0', '1.2.4.6.7.8', '4.7.8.11', '8.10.1.3', '1.3.4.5.6.8.9', '11.1.2.4.7', '5.6.7.8.9.11.0.1.2', '9.10', '1.2.4.5.7.8', '9.11.1.2.4', '9.11.0.2', '9.11.1.2.4.5', '9.10.11.1', '6.10.11.0', '0.3.4.5.7', '5.6.8.0', '6.8.0.1', '1.2.4.5.6.8.9', '11.1.2.3.5.7', '1.2.3.4.6.7', '9.10.11.0.1.2.3.4.5.6.7', '2.4.6.9.11', '4.5.6.7.9.10.0.2', '1.5', '2.4.5.6', '4.7.9.10.0.1', '0.3.5', '1.2.4.7.9.10', '2.3.7.9', '1.3.5.9', '5.7.8.9.11', '2.3.5.6.7.9', '5.6.8.11.2', '5.8.10.1', '11.0.2.4.5.6', '9.11.2.4.5.6', '5.6.11', '7.8.9.10.11.0.1.2.3.4.5', '0.1.2.3.4.5.6.8', 'B3', '3.5.6.8.9', '7.8.9.0.1.2', '3.6.9', '1.2.4.6.7', '5.9.10.0', '4.5.7', '9.10.0.1.2.4', '9.10.11.2.5', '1.5.6.7', 'B5', '2.3.4.5.6.7.8.9.10', '11.0.2.4.5.6.8', '1.2.4.5.7.8.9', '0.1.4.7', '0.2.4.8', '10.11.1.2.3.4.5.6.7', '3.4.5.8', '10.0.1.2.3.4', 'C#4', '6.7.11', '4.5.6.7.9.11', '8.9.11', '7.11.1.2', '4.8', '2.3.4.5.6.8.9.10', '7.10.0', '0.1.2.3.4.6', '2.3.4.6.8', '3.4.5.6.7.8.9.10.11.1', '7.10.1', '3.5.7', '2.3.5.9.10', '11.0.2.3.5', '5.6.7.8.9.11', '6.7.8.10', '0.2.3.7', '0.1.2.4.5', '11.3.5', '2.3.6.8', '11.0.1.2.3.5.6', '8.9.10.1', '0.1.2.4.5.7.8.9', '1.2.5.7.9.10', '0.1.2.5.7', '10.2.3.4.5', '11.2.3.4', '9.10.11.0.1.2.4.5.7', '3.4.5.6.7.9.10.11.0.1', '6.7.9.11.0.2.4', '2.3.5.7', '0.1.3.5.6.8', '1.3.5.6.8', '0.2.4.7.9', '6.10.11.1', '11.1.2.4.5.6.7', '1.4.6.7', '2.5.6.9', '11.1.4', '6.7.10.11', '1.3.4.5', '1.2.3.4.6.9.10', '4.5.9.10', '4.7.11', '5.8.11.0', '5.6.9.10.11.0', '3.4.5.6.7.8.9.10.11.0.1', '4.5.6.9.10.0.1', '6.8.9.10.11.1.2', '4.7.9', '11.2.3.4.5.6', '0.2.4.5.6.7.9', '9.10.11.0.2.4.6', '1.3.5.7', '4.5.6.7.8', '2.4.5.7.10', 'E-5', '9.11.1.2', '1.5.8.9', '11.1.2.4.5.6', '7.9.0.2.3.4', 'E-7', '4.5.7.8', '4.7.9.10', '1.2.4.5.7.8.9.10', '0.2.4.5.7.8.9', '11.2', '2.3.5.7.10', '7.9.0.2.3', '4.5.8.9.11', '9.0.1.3.4.5', '4.5.6.8.9.11.0.2', '0.3.6.9', '6.7.9.11.0.2', '10.0.2.3.5', 'B-0', '2.5.6.7', '9.11.0.4', '3.4.5.6.7.9.0', '5.6.7.8.9.10.11.0.1.2', '11.2.4.6', '6.7.10', '5.6.8.9.0', '0.1.3.5.6.9', '9.11.0.1.2.4.5', 'C#6', '11.1.3.4.5.6.8', '6.9.10.11.0.2', '9.10.11.0.2.5.6', '8.9.10', '10.0.2.5.7', '4.5.6.9.0', '11.2.3.5.6.7', '11.0.1.2.3.4.5.6.7.9', '9.11.2.3.5', '3.4.5.6.7.8.9.10.11.0', '7.9.10.1.2', '11.0.2.3.4', '5.6.8.10', '9.0.2.3', 'F5', '0.1.2.3.4.5.6', '11.0.1.2.3', '6.7.9.10.11.1.2', '6.8.9.11.0.1', '8.9.11.0.2.3.4.5', '11.0.1.2.3.4.6.7.9', '1.2.5.7.10', '0.5.6', 'E5', '8.11.0', '1.2.3.5.8', '11.1.2.4', '1.4.6.7.9', '2.3.4.5.7.9', '8.11.1.2.4.5', '8.9.0.2.4', '2.4.5.6.7.8.9.10', '3.4.6.9', '0.3.4.7', '4.6.7.9.10.0', '3.4.6.7.8.9', '2.5.6.7.8.9', '3.4.5', '2.4.6.7.9.11', '8.10.2', '5.7.10.0.1', '0.2.3.4.5.6', '5.6.7.10', '2.3.5.8', '1.4.7.10', '9.10.11.0.2.5', '10.0.1.2.4.6', '5.6.9.11', '7.10.1.2', '11.0.1.4.5.6.7', '4.5.8', '6.8.11.1.2', '6.7.8.9.10.11.1.2.3.4', '8.9.1', '10.11.2.5', '6.7.8.9.10.11.2.3', '3.5.6.7.8.9', '1.3.6.8.9', '0.2.3.5.6', '3.9', '4.6.7.8.9.0', '5.6.7', '5.6.9.0.1', '6.7.9.0.3', '11.0.1.2.3.4', '5.6.7.8', '5.6.7.8.9.10.11.1.2', '11.2.5', '4.6.8.9.11', '4.5.7.10.1', '10.11.1', '10.0.1.2.5.6', '9.10.11.1.2.3.4.5.6', '11.0.1.2.4.5.6', '1.5.9', '1.4.7.8', '4.6.8.9.11.1', '0.2.6', '11.0.1.2.5', '9.10.11.0.1.2.4.5.6', '11.3.4.6', '9.11.2.3.4.5', '11.3.4', '10.1.2.4', '10.0.1.2.4.5.7', '2.5.7.9', '1.2.3.4.5.7.8.9', '2.4.5.6.7.9.10.11', '1.2.3.4.5.6.7.10', '3.4.5.6.8', '9.11.0.1.4', '2.3.6.7.9.10.11', '3.5.8.9', '8.9.11.1.2', '5.7.8.10', '10.0.4.5', '3.4.7.11', '4.5.9', '6.9.10.11.0', '6.8.11.2', '7.9.0.1', '8.11.1.3', '6.9.10.0', '0.1.2.3', '11.1.4.6', '11.0.2.5.6', '1.2.4.5.6.8.9.10.11', '6.8.9.11.1', 'F#4', '8.9.11.1', '10.1.2.3.4.5', '4.5.6.7.8.9.10.0.1.2', '1.2.6.7', '9.10.11.0.2.4.5', '4.6.7.8', '1.2.5.7.9', '2.4.9', '1.4.5', '2.4.6', '4.5.6.7.8.9.0', '8.10.3', '10.1.2.3.4', '2.4.5.7.8.9.11', '3.5.9.11', '0.2.3.4.6', '2.3.4.5.6.8.9.11.0', '0.1.2.3.4.7.9', '11.1.5', '5.6.7.9.10', '1.3.4.8', '1.4', '4.7', '10.11.0.1', '10.11.2', '8.9.11.0.2.4.6', '6.7.8.9.11.0.2', '1.2.3.4.5.6.7.9.10', '0.1.2.3.4.5.6.8.9', '11.3.4.5', '9.1.3.4.5', '4.6.8', '6.8.9.10.1', '2.4.6.7.8', '0.1.6', '2.5.6.8', '8.11.0.1', '11.2.4.6.7.8', '11.2.4.6.7', '1.5.6.8', '2.3.6', '11.0', '0.2.3.4', '6.7.9.1.2', '6.9.11.2', '10.0.2.3', '0.1.2.5.8', '6.7.8.9.1.2', '9.11.0.1.2', '7.11.2', '3.5.10', '4.5.7.9.11.0', '0.4.5.7', '6.8.9.1', '10.11.0', '2.4.5.6.7.9.11', '2.3.4.6.9', '9.0.2.3.4', '5.6.7.10.11.1.2', '1.2.4.5.7.9', '9.10.0.1.2.3.4.5.6', '8.9.0.3', '11.0.2.4.6.7.8', '5.6.7.11', '6.7.8.9.11', '2.3.8.9', '11.0.2.3.4.5.6', '2.4.5.6.7.8.9', '0.6', '6.7', '4.7.8.9.0', '8.9.11.2.4.5', '6.9.10.11.2', '1.2.5.6.9', '1.2.3.4.5.6.7.8.10.11', '2.6.10', '5.6.7.9.0.1.2', '2.3.5.6.7.9.11', '8.9.2', '7.9.11.0.1.2', '11.0.4.5', '4.9', '1.2.5.6.7', '10.11.0.2.5', '4.6.7.8.11', '11.0.2.5', '9.10.11.1.2.5', '5.7.0', '0.2.7', '1.2.5.6.7.8', '5.6.7.9.0.2', '10.11.3', '11.0.4.6.7', 'G#-1', '7.8.9.10.11.0.1.2.4', '9.11.0.2.3.4.5.6.7', '7.9.11.1', '3.6.7', '4.6.7.10', '3.7.9', '0.1.2.4.8', '6.9.0.2.3', '5.6.7.8.11', '2.4.7.8.9', '1.2.3.4.6.7.8.9.11', 'F6', '0.4.8', '5.7.8.0', '5.8.10.1.2', '11.0.2.4.7.8', '8.9.0.1.2', '0.1.3.4.7.9', '11.0.1.4.7', '1.2.4.5.6', '1.2.4.5.6.9', '4.5.6.7.9.10.11.0.2', '8.11.2.3.4', 'E6', '2.3.4.9', '6.7.8', '4.5.7.10.0.1', '3.4.7.8.9', '10.11.0.1.2.4.5.6', '7.0.1', '8.9.10.1.2.4.5', '0.2.4.7', '6.7.9.10.0.2.4', '1.2.3.4.6.7.8.9', '5.7.10.0.1.2', '3.5.6.9', '1.2.5.6.8.9.10', '0.1.2.4.6.7', '11.0.1.2.4.5.6.7', '11.0.4.7', '9.10.0.1.2.3.4.5', '9.0.1', '1.2.4.5.8.9', '10.0.1.4', '1.2.3.4.5.7.8.9.10', '5.6.7.8.9.11.0', '1.2.3.4.5.6.8.9.10.11', '5.9.11', '2.3.4.7.9.11', '5.6.8.9.11', '6.9.10.1.2', '0.3.6.8', '5.9.0', '1.2.3.4.5.6.7.8.10', '7.11', '10.0.2.4.5', '4.8.11', '9.11.1.2.3.4', '4.5.8.11.0', '1.2.4.6.7.10', '0.2.3', '9.11.1.4.5', '9.10.11.1.2.5.6', '9.0', '8.9.1.3', '4.5.8.9.0', '2.3.5', '5.6.9.10.11', '2.4.5.6.8.9', '9.10.0.2.4.5.6', '2.5.8.11', '6.8.11.1', '2.5.7.9.10.11', '1.2.4.7.9', '7.9.11.2.4', '2.3.6.9', 'B6', '1.2.3.4.5.6.7.8.9.11', '6.7.9.10.0', '0.2.6.8', '11.1.4.5.6', '0.1.2.3.4.6.7.9.10', '11.1.2.3.4.6', '10.1.3.5', '1.2.4.5.6.7.9', '4.5.9.10.11', 'D7', '0.1.2.5.7.9', '9.10.11.0.1.2.3.4.5', '7.9.10.0.1.2', '11.0.1.2.6', '8.10.0.2.5', '2.3.5.7.9', '8.1', '1.3.4.5.6.7.8.9.10', 'G7', '2.3.4.6.7.9.11', '3.5.6.7.8', '11.0.1.2.4.5.7.9', '10.1.2.4.5', '11.0.2.3.4.6', '4.5.6.8.0', '4.8.10.11', '1.2.6', '9.11.0.1.3.4', '1.3.4.6', '2.3.4.5.6.8.9', '4.5.6.8', '11.2.4.5.6.7', '0.1.2', '11.0.5', '11.2.6', '9.11.0.2.3.4.5.6', '4.7.8', '10.1.2.3', '4.5.7.9.11.1', '2.4.5.7.9.11', '6.7.8.9.10.1.2', '4.5.6.7.9.11.0', '1.2.4.8.9', '2.5.8.9.10', '5.6.9', '0.2.4.5.6', '1.2.3.4.6.9', '3.5.8.11', '2.3.4.5.8', '0.2.3.4.5.6.8', '2.3.5.6.8.9', '4.5.6.7.8.10.0.1', '5.6.8.9.1', '5.9.11.0', '1.4.5.7.9', '2.5.7.9.10', '0.1.4.5.6.8', '10.0.2.6', '8.11', '6.8.0', '10.0.2.4.6', '3.4.5.8.9.0', '4.5.6.7.9.10', '11.1.2.3', '1.2.5.8', '3.4.7', '0.1', '11.0.2.3.4.6.7', '0.2.5.6', 'E7', '2.4.5.8.9', '7.8.9.0.2.4', '3.4.5.6.9.0', '1.6', '8.9.0.2.5', '6.7.8.9.1', 'G#6', '5.6.7.9.0', '2.4.6.8.9.11', '9.10.11.1.2.4.5.6', '4.5.7.11.0', '9.11.1.3.5.6', '6.8.9.11.0.1.2', '0.2.3.4.6.7.9', '10.11.1.2.4.6.8', '1.2.5.9', '0.2.5.6.7', '6.9.10.0.1', '10.0.3', '3.5.6.9.11', '4.5.6.7.10.0', '11.1.3.4.6', '2.6.7.9', '4.5.6.7.11.0', '5.7.8', '4.5.7.9.11', '2.5.6', '10.11.1.2', '5.6.7.8.10', '1.2.6.7.8', '5.6.8.0.1', '2.3.4', '0.2.3.5.7.9', '4.6.9.11.0', '5.7.11.0', 'G0', '9.11.1.5', '0.1.3.4.5', '1.4.5.7.8.9.10', '2.5.7.10', '5.6.9.11.0', '4.5.8.9.10.0', '11.2.3.6', 'E2', '11.0.3', '6.7.8.9.10.11.0.1.2.4', '1.3.6.8', '8.9.1.3.4', '1.2.3.4.5.6.8.9', '3.4.7.9.0', '10.0', '1.2.3.6.8', '0.1.2.4.5.6.7.8.9', '11.0.1.2.3.4.5.6.8.9', '11.1.2.3.4.5.6', 'G#5', '5.7.9.11.0.1.2', '2.4.5.6.7.9.10', '4.6.7.9.0', '1.4.5.7', '11.0.1.2.4.5.6.7.9', '9.10.11.1.2.3.4.5', '3.4.5.6.7.8', '9.0.1.2.3', '2.6.9', '2.8', '9.0.1.2.3.5', '9.11.1.4.6', '4.7.8.9', '5.6.7.8.9.0.2', '1.5.7.8', '10', '3.4.6.9.11', '0.3.5.6', '8.11.0.1.2.4', '9.10.0.2.5', '1.2.3.6.7.9', '4.7.9.11.0', '2.4.5.7', '6.7.8.0', '9.0.2.4', 'F#6', '1.2.4.5.6.7.8.9.10', '6.9.10.1.2.3', '9.11.0.3.5', '11.1.2.6', '5.6.7.8.10.0.1', '4.5.6.7.8.9.11.0.2', '5.6.8.9.11.0.1', '10.1.2.4.5.6', '6.9.11.0', '7.8.9.11.2', '11.0.1.2.5.6.7', '0.1.3.5', '1.3.7', 'E-6', '2.3.4.5.6.7.8.9.10.11.0', '6.9.10.11.1', '1.2.6.8', '8.1.2', '3.5.7.9.0', '4.5.6.9.10.0', '10.11.1.2.4.5', '3.7.11', 'B-4', 'C#5', '2.5.6.7.9.10', '3.6.8', '1.3.5.6.7', '0.1.3.4.6', '5.7.8.11.1', '5.11', '11.0.1.2.3.5.6.7', '7.9.10.0.2', '5.7.10', '8.11.2.4.5', '5.6.8.9', '10.0.1.2.4.7', '0.1.2.3.4.6.7', '9.11.1.2.3.4.5.6', '11.2.5.6.7', '0.3.5.6.8.9', '0.1.5', '4.6.10.0', '5.6.9.10.0.1.2', '2.4.6.7.8.9', '11.0.1.2.5.7', '6.7.10.2', '8.9.11.0.1.2.4.5', 'B-6', '9.10.0.4.5', '11.0.1.5.6', '11.0.2.4.5.7.8', '4.5.6.10', '3.4.8.11', '11.1.2.4.6.8', '11.0.1', '1.3.4.6.9', '5.7.9.10.0.2', '11.0.4', '1.4.5.8.9', '9.10.0.3.5', '7.9.11.1.2.4', '0.1.5.7', '4.6.10.11', '10.0.1.2.4.5.6.7', '4.5.6.7.8.10.11.0.1.2', '1.2.4.6.7.9', '0.2.4.5.7.8.9.10', '0.1.2.3.4.5.6.7', '10.11.2.4.5', '1.2.3', '5.6.9.1', '2.3.6.9.10', '4.8.9.10', '5.6.9.11.0.1.2', '1.6.7', '0.1.4.6.7.9', '4.5.6.9.10.11', '4.6.8.9.0', '11.1.3.4', '11.0.1.2.4.6.8', '6.7.8.9.10.11.0.1.2.3.4', '11.0.2.4.6.8', '0.3', '11.0.2.3.6.7', '9.2.3', '4.6.10', '6.7.8.0.2', 'D5', '4.8.10', '0.1.2.4.5.7.9.10', '2.6.7', '1.2.3.4.8.9', '9.11.1.2.4.5.6.7', '1.3.5.8', '4.5.6.7.9.10.11', '9.0.1.2.4.5', '11.1.3.4.5', '1.2.4.5.9', '2.4.8.10', '2.4.6.9', '11.0.2.5.6.7', '1.2.4.6.7.8.9', '11.0.1.4.6.7', '0.1.2.5.6.9', '2.3.4.5.6.9.11', '9.10.0.1.2', '2.4.6.7.8.9.10', '2.3.4.7', '1.3.4.7.9', '6.7.9.1', '2.4.5.6.7.10', '9.0.1.2.4', '2.5.8', '10.11.0.1.4.5.6', '11.2.4.5.6', '5.6.9.0', '2.4.6.7', '0.1.2.3.5', '5.8.11.0.1', '7.10.11', '4.10', '9.10.0.2.4.6', '2.3.4.6.7', '5.6.7.8.11.0.1.2', '0.1.4.6.8', '2.4.5.6.7.9', '1.2.3.4.5.6.7.8', '3.4.6.7.9', '3.6.9.11', '11.0.3.4', '5.6.7.8.9.0.1', '11.0.2.3.6', '11.1.2.4.6', '8.11.1', '1.4.7.9.10', '11.3.4.5.6', '11.0.2.4.6', '8.11.1.2.4', '2.4.8.9', '4.5.6.7.11', '0.3.4.6.7', '1.4.7.9', '1.3.4.5.8', '5', '8.9.10.11.0.1.2.4.5.6', '11.0.3.4.5', '3.4.5.6.9.11', '9.10.11.1.2', '6.9.11.1', '0.2.4.6.7.8', '5.6.7.8.9.0', '11.0.2.5.7', '1.2.3.4.5.6', '0.4.6.7.8', '6.7.8.9.11.0.1.2', '9.10.11.1.2.3.4.6', '1.4.6.9.10', '11.0.1.2.3.4.6', '1.5.6', '8.9.10.11.0.1.2.3.4', 'B-3', '5.6.10.11.0', '9.10.11.0.1.2.3.4.5.6', '2.3.4.5.6.10', '6.10.1', '10.2.5', '11.0.1.2', '6.7.9.10.11.1.2.3.4', '1.2.3.7', '2.3.4.8', '9.10.0.1', '5.6.8.11.1.2', '8.0.2', '10.0.1.2.4.6.7', '9.11.4', '1.2.3.4.5.7', '6.7.11.1', '0.2.6.7', '0.1.3.4.5.6', '5.6.7.9.10.0.1.2', '0.1.2.6', '4.5.7.8.11', '2.4.6.9.10', '4.5.6.7.8.9.10.11.1.2', '3.6.7.9', '1.2.3.8', '5.6.7.8.9.11.2', '0.1.2.4.6.7.9', '9.10.0.1.4', '9.10.11.0.2.4.5.6', '5.6.7.8.9.11.1.2', '1.5.6.7.8', '4.5.10.11', '0.1.2.5.7.8.9', '10.2', '5.6.7.9.11.0.2', '7.9.11.1.4', '9.11.2.3.4', '10.2.3.4', '1.2.5.6.7.8.9', '11.0.1.2.4.6', '5.8.11.1', '7.10', '5.6.7.9.11', '0.1.2.4.6.9', '2.3.5.6.9.10', '8.9.10.11.0.1.2.3.4.5', '1.2.4.5.6.7.8', '5.6.7.11.1', '10.0.2.4.5.6', '9.0.1.4.5.6', '9.10.0.1.3.4.5.6', '9.0.1.2.3.4', '10.1', '11.0.2.4.6.7', '3.8.9', '1.2.5.6.8', '1.4.6.7.9.10', '0.2.3.4.6.7', '10.0.1.2.5', '9.10.2.5', '9.11.0.2.3.4.5', '6.7.9.10.1', '0.2.4.5', '0.1.2.4.6.7.8.9', '0.1.2.3.6.9', '5.7.9.10.0.1', 'G-1', '7.9.11', '6.7.10.0.2', '1.2.3.4.6.8.9.10', '4.6.7.8.11.0', '3.5.9.10', '5.7.9.10.0.1.2.3', '9.0.1.2.3.4.5', '1.2.3.4.5.6.7', '4.6.11', '0.1.4.7.8', '0.1.3', '0.1.3.4.5.6.7', '3.6.8.9', '2.3.4.5.7', '2.6', '11.2.3.6.7', '7.8.0.2', '4.5.6.8.11.0.1', '1.3.6', '1.5.8', '7.9.10.11.2', '7.9.11.0', '5.8.0', '6.9', '1.4.6.8', '0.1.2.4.5.8.9', '9.11.0.1.3.5.6', '5.8.9.11', '4.6.7.8.9', '2.4', '6.9.0.2', '9.10.0.1.2.4.5.6.7', '8.11.2', '1.4.6.8.9', '11.0.1.2.3.4.5.6', '0.1.2.4.5.8', '7.8.9.0', '9.11.0.2.3.4.6', '3.4.5.6', '7.8.11.2', '8.9.11.1.2.4.5', '2.5.6.7.9', '6.7.8.11.2', '0.2.3.4.5.6.7.9', '6.9.11.0.1.2', '8.11.2.3', '11.2.4.5', '11.1.2.4.6.7', '2.3.4.6', '2.3.4.5.6', '9.11.0.1.2.4.5.6', '0.1.4.6', '6.10.0', '3.5', '10.11.0.2.3.5.6', '10.0.1.2.4.5', '5.9.0.1', '10.11.1.2.5.6', '4.7.9.11.0.1', '5.6.7.10.1', '8.11.2.4', '0.4.6', '1.2.4.7.8.9', '4.5.6.7.8.9.11.0', '1.3.7.8', '9.11.2.5', '6.9.11.1.2', '0.2.5', '9.0.2.3.5', '5.10', '0.1.2.3.4.5', '5.7.9.0.2', '5.7.9.1', '2.4.5.9', '4.6.8.9', '2.4.5.6.7.8.9.11', '6.9.11.2.3', '5.6.9.11.0.2', '5.8.9.0.1', '5.6.8.9.10.11.1.2', '4.7.10', '4.5.6.9.11.0.1', '8.9.10.11.1.4.5', '0.1.4.5.6', '0.2.4.5.6.8', '11.2.4.7', '5.7.9.11.0.1', '2.5.8.10', '1.2.5', '7.11.0', '1.2.4.7', '5.6.9.10.0.1', '2.4.6.7.8.9.11', '1.2.3.4.5', '0.3.4', '9.0.2.4.5', '6.7.8.9.10.11.1.2.4', '0.1.2.4.6', '9.11.0.1.2.5', '4.5.8.9', '4.5.6.7.9.0.1', '9.11.0.1.2.4', '10.0.2.5', '1.3.8', '9.0.1.3.5', '10.11.0.2.4.6', '4.5.6.9.10', '7.8.1', '7.8.0.1.2', '1.2.4.7.10', '2.5.7.8', '7.9.11.1.2', '9.10.11.2.4.5', '11.0.2.4.5', '11.2.3.5.6', '9.11.1.2.3', '4.5.6.7.8.9.10.11.0.2', 'G#4', '5.9.10', '2.4.5.7.8', '8.9.11.3.4', '9.11.2.4.5', '6.7.9.0', '8.10.1.2.3', '7.9.10', '11.0.2.3.4.5', '9.10.0.2.3', '6.9.10', '0.3.5.6.7', '1.3.4.5.6.7', '9.0.1.4', '0.4', '4.7.10.0', '2.3.4.6.7.8.9.10', '2.3.6.7.8.9', 'A0', '4.7.10.0.1', '5.6.7.0', '5.10.11', '2.3.4.5.6.7.9', 'A4', '11.1.2.5.6', '9.11.0.1', '9.0.1.3.4.5.6', 'C6', '8.9', '5.6.7.8.9.10.11.1.2.3', '2.3.4.5.8.11', '10.11.0.3.4.5.6', '3.4.8.9', '6.8.9', '9.11', '2.5.8.9', '4.5.6.8.9.11.0', '2.3.8', '1.2.4.6.7.9.10', '11.2.4', '8.9.10.0.2.5', '5.8.9', 'C4', 'G4', '9.11.0.2.3.5', '10.0.1.5', '11.0.2.4.5.6.7', '9.10.0.4', '2.3.5.6', '7.9.11.0.2.3.4.5', '5.6.7.8.9.0.1.2', '8.10.1', '6.7.11.1.2', '3', '9.10.0.3', '0.1.2.3.4.5.6.7.8.9.10.11', '3.7.10', '1.3.4.6.8', '2.5.6.7.8.10', '3.4.6.7.9.0', '6.7.9.10.1.2', '2.3.4.5.6.7.8.9.11', '5.6.7.9', '3.4.9.10', '1.5.7', '0.1.5.6.7', '0.2.3.4.5.7', '7.8.9.0.2', '10.11.2.6', '9.2', '5.6.8', '10.0.1.4.5.6', '2.5.9', '0.1.3.7', '5.6.7.9.10.0.1', '0.1.2.4.5.7', '5.6.10.11', '4.5.6.8.11', '5.7.9.0.1', '0.1.2.5.6.8', '0.1.2.3.5.6.7.8.9', '9.1.3.4', '3.5.8', 'G#2', '4.5.6.7.8.9.11.0.1', '11.0.1.4.5', '9.11.0.3.4', '4.5.6.7.8.9.10.11.0.1', '1.2.3.7.9', '10.11.0.1.2.3.4.5.6.7', '7.9.11.2', '2.3.4.5.6.8.9.10.11', '9.10.11.0.1.2.3.4.5.7', '0.1.2.3.4.5.6.8.9.10', '0.1.2.6.8', '9.10.11.2.4.5.6', '5.8.10.11', '0.2.3.5.6.7.9', '0.2.4.5.6.8.9', '0.2.3.5', '7.10.2', '4.5.7.9.10.0.1', '7.8.9.11.2.4', '1.2.4.5.7.9.10', '2.3.4.5.6.9.10.11', '11.1.2', '7.9.11.1.2.3.4', '4.8.9', '5.6.7.9.10.11.2', '0.1.2.3.4.5.7.9', '3.6.10', '0.1.2.6.7', '10.1.2.4.5.6.7', '1.2.3.6.8.9', '10.11.3.4', '10.11.1.2.5', '0.3.4.5.6.7', '0.1.4.6.8.9', '9.1', '3.7', '10.11.0.1.2.5.6', '2.4.5', '5.7.10.11', '2.4.5.6.9.10', '2.5.6.7.8', '2.3.4.6.9.11', '7.8', '11.2.3.4.5', 'B-5', '0.1.6.7', '10.0.1', '11.0.1.5', '6.9.11.0.2', '1.2.4.7.8', '8.9.1.2', '0.1.2.3.4.5.7', '0.1.2.4.6.8.9', '6.10.0.1.2', '5.6.8.10.0.2', '0.2.3.4.5.6.7', '5.6.8.9.10.0.1.2', '9.10.0.2.4.5', '2.3.5.9', 'B--1', '9.0.3.4', '11.1.4.6.7', '0.2.3.5.7', '5.7.10.0', '10.0.2.4.5.6.7', '9.0.4', '4.6.7.9.10.0.1.2', '1.4.5.6.7', '11.0.2.4.5.7', '4', '1.2.3.4.6.7.9', '9.10.1.2.4', '2.3.5.6.9', '2.3.6.10', '6.7.9.10.0.1', '1.2.4.8', '3.4.5.9.11', '1.4.6.7.8.9', '11.0.1.2.3.4.5.6.7', '9.10.11.4', 'E-4', '0.1.2.4.5.6.7.8', '10.1.5', '0.3.4.6', '11.1.2.5', '2', '4.6.7.9.10.11.0.1.2', '5.7.8.11', '4.6.7.9.11.0.1', '0', '3.4.5.6.7.8.9.10.0.1', '1', '0.2.3.4.5', '2.4.6.7.9.10', '4.5.7.9.10', '0.2', '1.2.3.4.5.6.7.9.10.11', '2.3.4.5.6.8.11', '11.0.1.2.3.4.5.6.7.8.9', '8.0.1.2', '9.10.1.2.4.5.6', '7.9.10.0', 'D4', '2.3.4.5', '10.1.4', '1.2.5.7.8.9', '9.0.1.2.5', '4.5.6.8.9.0.1', '9.10.1.2', 'C7', '0.1.4', '11.1.2.3.4.5', '4.5.6.8.11.0', '2.4.5.6.7', '7.8.9', '0.2.4', '0.2.4.6.9', '8.9.1.4', '1.2.3.6.9', '5.7.8.9', '9.11.1.2.4.6', '11.0.3.5.6', '0.1.2.3.4.5.6.7.8', '11.0.1.4.6', '9.11.0.2.4', '9.10.0.1.4.5', '8.9.10.2', '1.2.4.6.8.9.10', '8.9.0.1', '3.4.5.10', '7.10.0.1', '9.10.11.0', '0.3.4.6.7.8.9', '1.2.3.6.7', '9.11.1.2.3.4.6', '0.4.5.6.7', '4.7.9.11', '10.1.2.5.6', '4.6.7.8.9.11', '10.3', '0.1.2.5', '4.5.6.8.9', '1.2.4.6.9.10', '4.7.8.11.0', '0.3.4.5', '10.11.0.5', '2.6.8.9', '0.1.2.3.4.6.9', '9.11.3', '5.6.7.9.10.11.1.2', '10.11.2.5.6', 'E4', '4.5.6.7.9', '1.2.5.6.8.9', '9.0.2.3.4.5', '3.4.8', '8.10', '0.1.2.3.5.6', '5.9.10.11.0', '7.9.11.0.2.3.4', '1.2.5.8.9', '2.3.4.5.6.7.8.9', '5.6.9.11.1', '4.6.9.10', '1.2.4.5.6.8', '5.6.7.8.9.10.0.1.2', '4.5.9.11', '0.1.4.6.7', '9.10.11.0.4.5', '5.7.9.10', '11.0.1.2.4.5.7', '1.4.7', '0.2.3.4.6.8.9', '9.11.1', '11.0.2.6', '5.7.11', '4.6', '9.10.11.2.4', '1.2.3.4.6.7.9.11', 'F1', '5.6.7.9.10.1.2', '8.0.3.4', '9.10.0.1.2.4.5.6', 'F4', '11.0.2.4.5.6.7.8', 'F#2', '1.2.3.4.6', '4.5.6.7.8.9.10.11.0.1.2', '2.3.4.5.6.9.10', '10.1.3.4', '9.11.0.1.2.3.4.6', '1.2.5.6.9.10', '6.7.8.9.0.1.2', '4.6.7.9', '2.4.6.7.9', '9.11.2.3', '1.2.3.6.7.9.10', '9.11.0.3.4.5', '2.4.5.6.8.11', '0.1.4.5.6.7', '7.9.10.0.1.2.4', '8.10.11.2.3.4', '1.3.6.9', '11.1.5.6', '7.9.11.0.2.4', '0.1.2.3.4.5.7.8.9.10', '8.11.1.2', '1.4.5.6', '5.6.7.9.11.2', '9.1.2', '8.9.0.1.2.4', '5.9.11.0.1', '2.3.4.5.6.7.8.9.10.0', '7.10.11.2', 'F#7', '2.3.6.7', '0.2.4.5.7.9', '0.1.2.4.5.6.9', '8.9.0.2.4.5', '0.4.6.7', '9.10.0.2.4', '0.1.2.4.5.6.8.9.10', '2.5.6.9.10', '9.1.2.4', '4.5.6.7.9.0', '4.5.6.9.11.1', '1.2.4.6.8.9', '10.2.3.5', '5.6.7.9.11.0', '2.3.6.8.9', '6.8.9.0.2', '8.11.1.4', '2.3.4.7.8.11', '10.11.4', '0.1.2.3.4.5.6.7.8.10', '0.2.4.6.7', '5.6.7.8.9.10.11.0.2', '6.7.9', '10.11.0.4', '4.7.8.9.11.0', '7.9.1', '9.0.2.3.5.6', '3.4.9', '9.10.11', '8.0.1', '5.6.11.0', '11.2.4.5.7', '9.1.2.3.4', '2.3.7.10', 'G3', '3.5.9', '11.1.6', '2.3.4.6.7.9', '8.11.1.4.5', '0.1.2.4.5.6.7.9', '11.0.1.6', '8.9.10.0.1.2.3.5', '3.4.5.7', '6.9.0.1', '6.9.1', '4.5.7.8.9', '4.5.6.11', '5.6.7.10.0.1.2', 'F#0', '11.1.2.3.4', '2.3.5.6.7.8.9', '6.9.0', '1.3', '10.11.0.1.2.4.7', '6.8.9.0', '0.1.2.3.4.5.6.7.9.10', '3.4.6.7', '1.2.4.5.6.7', '2.3.4.6.8.9', '1.4.5.6.7.8', '9.10.1.2.5', '4.5.6.9.11', '0.1.4.5.7.8.9', '3.4.5.6.9', '5.7.9.0', '9.11.0.2.3.4', '1.2.3.4.5.9', 'A6', '10.1.4.6', '4.6.8.11.1', '5.8.9.0.1.2', '3.4.7.8.11', '5.6.8.9.10.1', '8.9.10.11.2.3.4', '11.1.3', 'B0', '11', '1.3.4.5.7', '10.1.2', '1.4.5.6.8', 'F7', '6.7.11.0.1', 'F#5', '5.9', '0.1.2.3.6', '0.1.2.5.6.7', '2.3.5.6.7', '5.7.9.10.11.1.2', '3.4.6.8.9', '0.1.2.4.5.6.7', '0.1.2.3.5.7', '1.2', '8.9.10.11.0.1.2.4.5', '4.5.6.7.8.9.11', '8.9.11.2.5', '8.11.0.2', '7.11.0.2', '7.0', '5.6.10', '9.0.1.3', '6.7.9.0.1', '0.1.2.7', '6.8.9.11.1.2', '1.2.3.4.5.7.9.10', '10.11.0.2.4', '8.0.3', '8.9.10.11.0.1.2.3.4.6', '0.2.4.7.8', '9.0.2', '5.7.11.1', '5.6.7.8.9.1', '5.6.7.10.11.2', '4.5.8.0', '11.0.4.5.6', '9.0.3.5.6', '0.2.5.7.8']\n"
          ]
        }
      ],
      "source": [
        "unique_x = list(set(x.ravel()))\n",
        "x_note_to_int = dict((note_, number) for number, note_ in enumerate(unique_x))\n",
        "print(unique_x)"
      ]
    },
    {
      "cell_type": "code",
      "execution_count": null,
      "metadata": {
        "id": "LxVSIJOCUQT4",
        "colab": {
          "base_uri": "https://localhost:8080/"
        },
        "outputId": "d5a74109-f5ff-4b36-92d1-e7d2bb986cbb"
      },
      "outputs": [
        {
          "output_type": "execute_result",
          "data": {
            "text/plain": [
              "array([[1464,  851,  585, ...,  542,  529, 1890],\n",
              "       [ 851,  585, 1620, ...,  529, 1890, 1844],\n",
              "       [ 585, 1620, 1063, ..., 1890, 1844, 1293],\n",
              "       ...,\n",
              "       [1600,  925, 1932, ..., 1751, 1096, 1463],\n",
              "       [ 925, 1932, 1301, ..., 1096, 1463, 1803],\n",
              "       [1932, 1301,  705, ..., 1463, 1803, 1398]])"
            ]
          },
          "metadata": {},
          "execution_count": 11
        }
      ],
      "source": [
        "#preparing input sequences\n",
        "x_seq=[]\n",
        "for i in x:\n",
        "    temp=[]\n",
        "    for j in i:\n",
        "        #assigning unique integer to every note\n",
        "        temp.append(x_note_to_int[j])\n",
        "    x_seq.append(temp)\n",
        "\n",
        "x_seq = np.array(x_seq)\n",
        "x_seq"
      ]
    },
    {
      "cell_type": "code",
      "execution_count": null,
      "metadata": {
        "id": "_CCvqAHQUQT4",
        "colab": {
          "base_uri": "https://localhost:8080/"
        },
        "outputId": "1635de72-927d-411b-f5e6-804e351eea33"
      },
      "outputs": [
        {
          "output_type": "execute_result",
          "data": {
            "text/plain": [
              "array([1844, 1293, 1737, ..., 1803, 1398, 1400])"
            ]
          },
          "metadata": {},
          "execution_count": 12
        }
      ],
      "source": [
        "unique_y = list(set(y))\n",
        "y_note_to_int = dict((note_, number) for number, note_ in enumerate(unique_y))\n",
        "y_seq=np.array([y_note_to_int[i] for i in y])\n",
        "y_seq"
      ]
    },
    {
      "cell_type": "code",
      "execution_count": null,
      "metadata": {
        "id": "WryGOTFuUQT4"
      },
      "outputs": [],
      "source": [
        "from sklearn.model_selection import train_test_split\n",
        "x_tr, x_val, y_tr, y_val = train_test_split(x_seq,y_seq,test_size=0.2,random_state=0)"
      ]
    },
    {
      "cell_type": "code",
      "execution_count": null,
      "metadata": {
        "id": "0XBLgDnaUQT4"
      },
      "outputs": [],
      "source": [
        "# def lstm():\n",
        "#   model = Sequential()\n",
        "#   model.add(LSTM(128,return_sequences=True))\n",
        "#   model.add(LSTM(128))\n",
        "#   model.add(Dense(256))\n",
        "#   model.add(Activation('relu'))\n",
        "#   model.add(Dense(n_vocab))\n",
        "#   model.add(Activation('softmax'))\n",
        "#   model.compile(loss='sparse_categorical_crossentropy', optimizer='adam')\n",
        "#   return model"
      ]
    },
    {
      "cell_type": "code",
      "execution_count": null,
      "metadata": {
        "colab": {
          "base_uri": "https://localhost:8080/"
        },
        "id": "-aNSoEE4UQT4",
        "outputId": "44603174-c6f4-49a1-ec3a-51db0b888913"
      },
      "outputs": [
        {
          "output_type": "stream",
          "name": "stdout",
          "text": [
            "Model: \"sequential\"\n",
            "_________________________________________________________________\n",
            " Layer (type)                Output Shape              Param #   \n",
            "=================================================================\n",
            " embedding (Embedding)       (None, 32, 100)           196600    \n",
            "                                                                 \n",
            " conv1d (Conv1D)             (None, 32, 64)            19264     \n",
            "                                                                 \n",
            " dropout (Dropout)           (None, 32, 64)            0         \n",
            "                                                                 \n",
            " max_pooling1d (MaxPooling1  (None, 16, 64)            0         \n",
            " D)                                                              \n",
            "                                                                 \n",
            " conv1d_1 (Conv1D)           (None, 16, 128)           24704     \n",
            "                                                                 \n",
            " dropout_1 (Dropout)         (None, 16, 128)           0         \n",
            "                                                                 \n",
            " max_pooling1d_1 (MaxPoolin  (None, 8, 128)            0         \n",
            " g1D)                                                            \n",
            "                                                                 \n",
            " conv1d_2 (Conv1D)           (None, 8, 256)            98560     \n",
            "                                                                 \n",
            " dropout_2 (Dropout)         (None, 8, 256)            0         \n",
            "                                                                 \n",
            " max_pooling1d_2 (MaxPoolin  (None, 4, 256)            0         \n",
            " g1D)                                                            \n",
            "                                                                 \n",
            " global_max_pooling1d (Glob  (None, 256)               0         \n",
            " alMaxPooling1D)                                                 \n",
            "                                                                 \n",
            " dense (Dense)               (None, 256)               65792     \n",
            "                                                                 \n",
            " dense_1 (Dense)             (None, 1966)              505262    \n",
            "                                                                 \n",
            "=================================================================\n",
            "Total params: 910182 (3.47 MB)\n",
            "Trainable params: 910182 (3.47 MB)\n",
            "Non-trainable params: 0 (0.00 Byte)\n",
            "_________________________________________________________________\n"
          ]
        }
      ],
      "source": [
        "from keras.layers import (Dense,\n",
        "                            Flatten,Conv1D,Embedding,MaxPool1D,Dropout,GlobalMaxPool1D)\n",
        "from keras.models import Sequential\n",
        "from keras.callbacks import ModelCheckpoint\n",
        "# import keras.backend as K\n",
        "\n",
        "# K.clear_session()\n",
        "model = Sequential()\n",
        "\n",
        "#embedding layer\n",
        "model.add(Embedding(len(unique_x), 100, input_length=32,trainable=True))\n",
        "\n",
        "model.add(Conv1D(64,3, padding='causal',activation='relu'))\n",
        "model.add(Dropout(0.2))\n",
        "model.add(MaxPool1D(2))\n",
        "\n",
        "model.add(Conv1D(128,3,activation='relu',dilation_rate=2,padding='causal'))\n",
        "model.add(Dropout(0.2))\n",
        "model.add(MaxPool1D(2))\n",
        "\n",
        "model.add(Conv1D(256,3,activation='relu',dilation_rate=4,padding='causal'))\n",
        "model.add(Dropout(0.2))\n",
        "model.add(MaxPool1D(2))\n",
        "\n",
        "#model.add(Conv1D(256,5,activation='relu'))\n",
        "model.add(GlobalMaxPool1D())\n",
        "\n",
        "model.add(Dense(256, activation='relu'))\n",
        "model.add(Dense(len(unique_y), activation='softmax'))\n",
        "\n",
        "model.compile(loss='sparse_categorical_crossentropy', optimizer='adam',metrics=['acc'])\n",
        "\n",
        "model.summary()"
      ]
    },
    {
      "cell_type": "code",
      "execution_count": null,
      "metadata": {
        "id": "a8kpA4sGUQT4"
      },
      "outputs": [],
      "source": [
        "mc=ModelCheckpoint('best_model.h5', monitor='val_acc', mode='max', save_best_only=True,verbose=1)"
      ]
    },
    {
      "cell_type": "code",
      "execution_count": null,
      "metadata": {
        "id": "DyIi4vuZUQT4"
      },
      "outputs": [],
      "source": [
        "from keras.callbacks import ModelCheckpoint\n",
        "filepath = \"../working/saved_models-improvement-{epoch:02d}-{val_acc:.2f}.h5\"\n",
        "checkpoint = ModelCheckpoint(filepath,monitor = 'val_acc',verbose = 1,save_best_only = True,mode = 'max')\n",
        "callbacks_list = [checkpoint]"
      ]
    },
    {
      "cell_type": "code",
      "execution_count": null,
      "metadata": {
        "colab": {
          "base_uri": "https://localhost:8080/"
        },
        "id": "UPYgPXBPUQT5",
        "outputId": "216fec3c-ca24-4c65-8812-2a1fcc4519dc"
      },
      "outputs": [
        {
          "output_type": "stream",
          "name": "stdout",
          "text": [
            "Epoch 1/20\n",
            "3183/3183 [==============================] - 333s 104ms/step - loss: 5.6910 - acc: 0.0454 - val_loss: 5.6130 - val_acc: 0.0504\n",
            "Epoch 2/20\n",
            "3183/3183 [==============================] - 329s 103ms/step - loss: 5.4923 - acc: 0.0525 - val_loss: 5.4629 - val_acc: 0.0560\n",
            "Epoch 3/20\n",
            "3183/3183 [==============================] - 326s 102ms/step - loss: 5.3261 - acc: 0.0576 - val_loss: 5.3382 - val_acc: 0.0609\n",
            "Epoch 4/20\n",
            "3183/3183 [==============================] - 321s 101ms/step - loss: 5.1786 - acc: 0.0627 - val_loss: 5.2069 - val_acc: 0.0650\n",
            "Epoch 5/20\n",
            "3183/3183 [==============================] - 328s 103ms/step - loss: 5.0541 - acc: 0.0667 - val_loss: 5.1655 - val_acc: 0.0690\n",
            "Epoch 6/20\n",
            "3183/3183 [==============================] - 324s 102ms/step - loss: 4.9556 - acc: 0.0706 - val_loss: 5.0716 - val_acc: 0.0714\n",
            "Epoch 7/20\n",
            "3183/3183 [==============================] - 335s 105ms/step - loss: 4.8792 - acc: 0.0733 - val_loss: 5.0202 - val_acc: 0.0731\n",
            "Epoch 8/20\n",
            "3183/3183 [==============================] - 342s 107ms/step - loss: 4.8175 - acc: 0.0759 - val_loss: 4.9989 - val_acc: 0.0755\n",
            "Epoch 9/20\n",
            "3183/3183 [==============================] - 331s 104ms/step - loss: 4.7714 - acc: 0.0776 - val_loss: 4.9690 - val_acc: 0.0755\n",
            "Epoch 10/20\n",
            "3183/3183 [==============================] - 322s 101ms/step - loss: 4.7332 - acc: 0.0801 - val_loss: 4.9603 - val_acc: 0.0771\n",
            "Epoch 11/20\n",
            "3183/3183 [==============================] - 316s 99ms/step - loss: 4.7017 - acc: 0.0807 - val_loss: 4.9610 - val_acc: 0.0776\n",
            "Epoch 12/20\n",
            "3183/3183 [==============================] - 320s 100ms/step - loss: 4.6729 - acc: 0.0819 - val_loss: 4.9322 - val_acc: 0.0793\n",
            "Epoch 13/20\n",
            "3183/3183 [==============================] - 314s 99ms/step - loss: 4.6493 - acc: 0.0829 - val_loss: 4.9185 - val_acc: 0.0782\n",
            "Epoch 14/20\n",
            "3183/3183 [==============================] - 318s 100ms/step - loss: 4.6316 - acc: 0.0840 - val_loss: 4.9144 - val_acc: 0.0795\n",
            "Epoch 15/20\n",
            "3183/3183 [==============================] - 318s 100ms/step - loss: 4.6147 - acc: 0.0847 - val_loss: 4.9097 - val_acc: 0.0800\n",
            "Epoch 16/20\n",
            "3183/3183 [==============================] - 313s 98ms/step - loss: 4.5970 - acc: 0.0853 - val_loss: 4.9057 - val_acc: 0.0796\n",
            "Epoch 17/20\n",
            "3183/3183 [==============================] - 315s 99ms/step - loss: 4.5830 - acc: 0.0858 - val_loss: 4.9020 - val_acc: 0.0802\n",
            "Epoch 18/20\n",
            "3183/3183 [==============================] - 311s 98ms/step - loss: 4.5744 - acc: 0.0863 - val_loss: 4.9057 - val_acc: 0.0812\n",
            "Epoch 19/20\n",
            "3183/3183 [==============================] - 313s 98ms/step - loss: 4.5622 - acc: 0.0868 - val_loss: 4.8952 - val_acc: 0.0818\n",
            "Epoch 20/20\n",
            "3183/3183 [==============================] - 317s 99ms/step - loss: 4.5557 - acc: 0.0866 - val_loss: 4.8902 - val_acc: 0.0809\n"
          ]
        }
      ],
      "source": [
        "history = model.fit(np.array(x_tr),np.array(y_tr),batch_size=128,epochs=20, validation_data=(np.array(x_val),np.array(y_val)),verbose=1)"
      ]
    },
    {
      "cell_type": "code",
      "execution_count": null,
      "metadata": {
        "id": "DnzN-AlJUQT5"
      },
      "outputs": [],
      "source": [
        "# #loading best model\n",
        "# from keras.models import load_model\n",
        "# model = load_model('best_model.h5')"
      ]
    },
    {
      "cell_type": "code",
      "execution_count": null,
      "metadata": {
        "colab": {
          "base_uri": "https://localhost:8080/"
        },
        "id": "FoOGq0ogUQT5",
        "outputId": "055325d6-eb39-46f5-e43c-236dd6f1af64"
      },
      "outputs": [
        {
          "output_type": "execute_result",
          "data": {
            "text/plain": [
              "array([[1958, 1829,  269, ..., 1123, 1578,  334],\n",
              "       [ 431, 1748,  797, ...,  585, 1293, 1290],\n",
              "       [  77, 1700, 1293, ...,  652, 1463,  613],\n",
              "       ...,\n",
              "       [ 549, 1947, 1724, ...,  549,  352,  191],\n",
              "       [1941,  585,  398, ..., 1371, 1123, 1669],\n",
              "       [ 585, 1280, 1448, ..., 1305,  549, 1870]])"
            ]
          },
          "metadata": {},
          "execution_count": 26
        }
      ],
      "source": [
        "len(x_val)\n",
        "x_val"
      ]
    },
    {
      "cell_type": "code",
      "execution_count": null,
      "metadata": {
        "colab": {
          "base_uri": "https://localhost:8080/"
        },
        "id": "Hsj7xRESUQT5",
        "outputId": "5f90a48a-7a96-4456-bdd9-1e7b4c61d4dc"
      },
      "outputs": [
        {
          "output_type": "stream",
          "name": "stdout",
          "text": [
            "1/1 [==============================] - 0s 23ms/step\n",
            "1/1 [==============================] - 0s 22ms/step\n",
            "1/1 [==============================] - 0s 24ms/step\n",
            "1/1 [==============================] - 0s 27ms/step\n",
            "1/1 [==============================] - 0s 26ms/step\n",
            "1/1 [==============================] - 0s 25ms/step\n",
            "1/1 [==============================] - 0s 25ms/step\n",
            "1/1 [==============================] - 0s 22ms/step\n",
            "1/1 [==============================] - 0s 22ms/step\n",
            "1/1 [==============================] - 0s 26ms/step\n",
            "1/1 [==============================] - 0s 22ms/step\n",
            "1/1 [==============================] - 0s 24ms/step\n",
            "1/1 [==============================] - 0s 23ms/step\n",
            "1/1 [==============================] - 0s 22ms/step\n",
            "1/1 [==============================] - 0s 24ms/step\n",
            "1/1 [==============================] - 0s 23ms/step\n",
            "1/1 [==============================] - 0s 23ms/step\n",
            "1/1 [==============================] - 0s 23ms/step\n",
            "1/1 [==============================] - 0s 26ms/step\n",
            "1/1 [==============================] - 0s 22ms/step\n",
            "1/1 [==============================] - 0s 22ms/step\n",
            "1/1 [==============================] - 0s 22ms/step\n",
            "1/1 [==============================] - 0s 22ms/step\n",
            "1/1 [==============================] - 0s 22ms/step\n",
            "1/1 [==============================] - 0s 22ms/step\n",
            "[1293, 1293, 1293, 1229, 1229, 1229, 1229, 1293, 1620, 585, 1293, 1293, 1293, 585, 1293, 1293, 1293, 585, 1293, 585, 536, 585, 1620, 585, 585]\n"
          ]
        }
      ],
      "source": [
        "import random\n",
        "ind = np.random.randint(0,len(x_val)-1)\n",
        "\n",
        "random_music = x_val[ind]\n",
        "\n",
        "predictions=[]\n",
        "for i in range(25):\n",
        "\n",
        "    random_music = random_music.reshape(1,no_of_timesteps)\n",
        "\n",
        "    prob  = model.predict(random_music)[0]\n",
        "    r = random.randrange(0,2)\n",
        "    if (r == 0):\n",
        "        y_pred= np.argmax(prob,axis=0)\n",
        "    else:\n",
        "        max_index = np.argmax(prob)\n",
        "        prob[max_index] = -np.inf\n",
        "        y_pred = np.argmax(prob,axis=0)\n",
        "    predictions.append(y_pred)\n",
        "\n",
        "    random_music = np.insert(random_music[0],len(random_music[0]),y_pred)\n",
        "    random_music = random_music[1:]\n",
        "\n",
        "print(predictions)"
      ]
    },
    {
      "cell_type": "code",
      "execution_count": null,
      "metadata": {
        "colab": {
          "base_uri": "https://localhost:8080/"
        },
        "id": "DuFvqiAfUQT5",
        "outputId": "1530eac1-4f32-4d9b-b336-88dea97b9bcb"
      },
      "outputs": [
        {
          "output_type": "execute_result",
          "data": {
            "text/plain": [
              "array([1720, 1293,  952, 1737, 1063, 1448, 1811, 1293, 1293, 1293, 1229,\n",
              "       1229, 1229, 1229, 1293, 1620,  585, 1293, 1293, 1293,  585, 1293,\n",
              "       1293, 1293,  585, 1293,  585,  536,  585, 1620,  585,  585])"
            ]
          },
          "metadata": {},
          "execution_count": 153
        }
      ],
      "source": [
        "random_music"
      ]
    },
    {
      "cell_type": "code",
      "execution_count": null,
      "metadata": {
        "colab": {
          "base_uri": "https://localhost:8080/"
        },
        "id": "9RUBU1g5UQT5",
        "outputId": "5e319cef-cb9f-414d-99df-235aabc0b966"
      },
      "outputs": [
        {
          "output_type": "execute_result",
          "data": {
            "text/plain": [
              "['D5',\n",
              " 'D5',\n",
              " 'D5',\n",
              " 'C#5',\n",
              " 'C#5',\n",
              " 'C#5',\n",
              " 'C#5',\n",
              " 'D5',\n",
              " '9.2',\n",
              " 'A5',\n",
              " 'D5',\n",
              " 'D5',\n",
              " 'D5',\n",
              " 'A5',\n",
              " 'D5',\n",
              " 'D5',\n",
              " 'D5',\n",
              " 'A5',\n",
              " 'D5',\n",
              " 'A5',\n",
              " 'C5',\n",
              " 'A5',\n",
              " '9.2',\n",
              " 'A5',\n",
              " 'A5']"
            ]
          },
          "metadata": {},
          "execution_count": 154
        }
      ],
      "source": [
        "x_int_to_note = dict((number, note_) for number, note_ in enumerate(unique_x))\n",
        "predicted_notes = [x_int_to_note[i] for i in predictions]\n",
        "predicted_notes"
      ]
    },
    {
      "cell_type": "code",
      "execution_count": null,
      "metadata": {
        "id": "NlANI5kuUQT5"
      },
      "outputs": [],
      "source": [
        "from music21 import note, chord, instrument, stream, tempo\n",
        "\n",
        "def convert_to_midi(prediction_output):\n",
        "\n",
        "    offset = 0\n",
        "    output_notes = []\n",
        "    midi_stream = stream.Stream()\n",
        "\n",
        "    # create note and chord objects based on the values generated by the model\n",
        "    for pattern in prediction_output:\n",
        "\n",
        "        # pattern is a chord\n",
        "        if ('.' in pattern) or pattern.isdigit():\n",
        "            notes_in_chord = pattern.split('.')\n",
        "            notes = []\n",
        "            for current_note in notes_in_chord:\n",
        "\n",
        "                cn=int(current_note)\n",
        "                new_note = note.Note(cn)\n",
        "                new_note.storedInstrument = instrument.Banjo()\n",
        "                notes.append(new_note)\n",
        "\n",
        "            new_chord = chord.Chord(notes)\n",
        "            new_chord.offset = offset\n",
        "            output_notes.append(new_chord)\n",
        "\n",
        "        # pattern is a note\n",
        "        else:\n",
        "\n",
        "            new_note = note.Note(pattern)\n",
        "            new_note.offset = offset\n",
        "            new_note.storedInstrument = instrument.Banjo()\n",
        "            output_notes.append(new_note)\n",
        "\n",
        "        # increase offset each iteration so that notes do not stack\n",
        "        offset += 1\n",
        "    midi_stream = stream.Stream(output_notes)\n",
        "    midi_stream.write('midi', fp='music.mid')\n",
        "\n",
        "convert_to_midi(predicted_notes)"
      ]
    },
    {
      "cell_type": "code",
      "source": [
        "predicted_notes"
      ],
      "metadata": {
        "colab": {
          "base_uri": "https://localhost:8080/"
        },
        "id": "wiTwaw-kbG0U",
        "outputId": "80089cbd-47de-4574-8e89-1a9da6911a68"
      },
      "execution_count": null,
      "outputs": [
        {
          "output_type": "execute_result",
          "data": {
            "text/plain": [
              "['A5',\n",
              " 'A5',\n",
              " 'A5',\n",
              " 'A5',\n",
              " 'A5',\n",
              " 'C5',\n",
              " 'C5',\n",
              " '9.2',\n",
              " 'A5',\n",
              " 'A5',\n",
              " '9.2',\n",
              " '2.7',\n",
              " '9.2',\n",
              " 'D6',\n",
              " 'A5',\n",
              " 'C#5',\n",
              " '2.4',\n",
              " 'C#5',\n",
              " 'E5',\n",
              " 'E5',\n",
              " 'A3',\n",
              " 'A5',\n",
              " '2.4',\n",
              " 'A5',\n",
              " 'A5']"
            ]
          },
          "metadata": {},
          "execution_count": 146
        }
      ]
    },
    {
      "cell_type": "code",
      "source": [
        "from music21 import note, chord, instrument, stream\n",
        "\n",
        "def convert_to_midi(prediction_output, note_duration=1.0):\n",
        "    offset = 0\n",
        "    output_notes = []\n",
        "    midi_stream = stream.Stream()\n",
        "\n",
        "    # Logic to condense repeated notes and their durations\n",
        "    condensed_notes = []\n",
        "    current_note = prediction_output[0]\n",
        "    note_count = 1\n",
        "\n",
        "    for i in range(1, len(prediction_output)):\n",
        "        if prediction_output[i] == current_note:\n",
        "            note_count += 1\n",
        "        else:\n",
        "            condensed_notes.append((current_note, note_count * note_duration))\n",
        "            current_note = prediction_output[i]\n",
        "            note_count = 1\n",
        "\n",
        "    # Append the last set of notes\n",
        "    condensed_notes.append((current_note, note_count * note_duration))\n",
        "\n",
        "    # create note and chord objects based on the condensed sequence\n",
        "    for pattern, duration in condensed_notes:\n",
        "        if ('.' in pattern) or pattern.isdigit():\n",
        "            notes_in_chord = pattern.split('.')\n",
        "            notes = []\n",
        "            for current_note in notes_in_chord:\n",
        "                cn = int(current_note)\n",
        "                new_note = note.Note(cn, quarterLength=duration)\n",
        "                new_note.storedInstrument = instrument.Banjo()\n",
        "                notes.append(new_note)\n",
        "\n",
        "            new_chord = chord.Chord(notes)\n",
        "            new_chord.offset = offset\n",
        "            output_notes.append(new_chord)\n",
        "        else:\n",
        "            new_note = note.Note(pattern, quarterLength=duration)\n",
        "            new_note.offset = offset\n",
        "            new_note.storedInstrument = instrument.Banjo()\n",
        "            output_notes.append(new_note)\n",
        "\n",
        "        # increase offset each iteration so that notes do not stack\n",
        "        offset += duration - 1\n",
        "\n",
        "    # Add the notes to the stream\n",
        "    midi_stream = stream.Stream(output_notes)\n",
        "    midi_stream.write('midi', fp='music.mid')\n",
        "\n",
        "# You can adjust the note duration as needed\n",
        "convert_to_midi(predicted_notes, note_duration=1.5)  # Use a different note duration if required\n"
      ],
      "metadata": {
        "id": "KX2l_qotUONe"
      },
      "execution_count": null,
      "outputs": []
    }
  ],
  "metadata": {
    "kernelspec": {
      "display_name": "Python 3",
      "language": "python",
      "name": "python3"
    },
    "language_info": {
      "codemirror_mode": {
        "name": "ipython",
        "version": 3
      },
      "file_extension": ".py",
      "mimetype": "text/x-python",
      "name": "python",
      "nbconvert_exporter": "python",
      "pygments_lexer": "ipython3",
      "version": "3.7.3"
    },
    "colab": {
      "provenance": []
    }
  },
  "nbformat": 4,
  "nbformat_minor": 0
}